{
 "cells": [
  {
   "cell_type": "markdown",
   "metadata": {},
   "source": [
    "### ✏️ **`Genera Reportes EDA`** "
   ]
  },
  {
   "cell_type": "code",
   "execution_count": null,
   "metadata": {},
   "outputs": [],
   "source": [
    "from pandas_profiling import ProfileReport\n",
    "import pandas as pd \n",
    "import warnings \n",
    "warnings.filterwarnings(\"ignore\")"
   ]
  },
  {
   "cell_type": "code",
   "execution_count": null,
   "metadata": {},
   "outputs": [],
   "source": [
    "# Lista con archivos \n",
    "csv_list = [\n",
    "    \"data_raw/application_train.csv\",\n",
    "    \"data_raw/application_test.csv\",\n",
    "    \"data_raw/bureau.csv\",\n",
    "    \"data_raw/bureau_balance.csv\",\n",
    "    \"data_raw/credit_card_balance.csv\",\n",
    "    \"data_raw/installments_payments.csv\",\n",
    "    \"data_raw/previous_application.csv\",\n",
    "    \"data_raw/pos_cash_balance.csv\",\n",
    "]"
   ]
  },
  {
   "cell_type": "code",
   "execution_count": null,
   "metadata": {},
   "outputs": [],
   "source": [
    "# Generar reportes \n",
    "for file_path in csv_list:\n",
    "    df = pd.read_csv(file_path)\n",
    "    file_name = file_path.split(\"/\")[-1].replace(\".csv\", \"\")\n",
    "    profile = ProfileReport(df, title=f\"{file_name} DataFrame Report\", explorative=True)\n",
    "    profile.to_file(f\"reports/{file_name}_report.html\")"
   ]
  }
 ],
 "metadata": {
  "kernelspec": {
   "display_name": "env_bd_project",
   "language": "python",
   "name": "python3"
  },
  "language_info": {
   "codemirror_mode": {
    "name": "ipython",
    "version": 3
   },
   "file_extension": ".py",
   "mimetype": "text/x-python",
   "name": "python",
   "nbconvert_exporter": "python",
   "pygments_lexer": "ipython3",
   "version": "3.9.21"
  }
 },
 "nbformat": 4,
 "nbformat_minor": 2
}
