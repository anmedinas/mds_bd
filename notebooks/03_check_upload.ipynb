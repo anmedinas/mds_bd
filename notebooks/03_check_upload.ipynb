{
 "cells": [
  {
   "cell_type": "markdown",
   "id": "b76ea305",
   "metadata": {},
   "source": [
    "### **`Validación Upload Data`**"
   ]
  },
  {
   "cell_type": "code",
   "execution_count": 1,
   "id": "eea757b2",
   "metadata": {},
   "outputs": [],
   "source": [
    "import pandas as pd \n",
    "import config\n",
    "import psycopg2\n",
    "import warnings\n",
    "\n",
    "warnings.filterwarnings('ignore')"
   ]
  },
  {
   "cell_type": "code",
   "execution_count": 2,
   "id": "1d552246",
   "metadata": {},
   "outputs": [],
   "source": [
    "conn = psycopg2.connect(\n",
    "    dbname = config.DATABASE,\n",
    "    user = config.USER, \n",
    "    password = config.PASS,\n",
    "    host = \"localhost\",\n",
    "    port = \"5432\"\n",
    ")"
   ]
  },
  {
   "cell_type": "markdown",
   "id": "b8b8fbf4",
   "metadata": {},
   "source": [
    "#### 🥝 **`bureau.csv`**"
   ]
  },
  {
   "cell_type": "code",
   "execution_count": 3,
   "id": "a8efb3d1",
   "metadata": {},
   "outputs": [],
   "source": [
    "df = pd.read_csv(\"/tmp/bureau_bkp.csv\")"
   ]
  },
  {
   "cell_type": "code",
   "execution_count": 4,
   "id": "a6c7daec",
   "metadata": {},
   "outputs": [
    {
     "data": {
      "text/plain": [
       "(1716428, 17)"
      ]
     },
     "execution_count": 4,
     "metadata": {},
     "output_type": "execute_result"
    }
   ],
   "source": [
    "df.shape"
   ]
  },
  {
   "cell_type": "code",
   "execution_count": 5,
   "id": "abca6114",
   "metadata": {},
   "outputs": [
    {
     "data": {
      "text/html": [
       "<div>\n",
       "<style scoped>\n",
       "    .dataframe tbody tr th:only-of-type {\n",
       "        vertical-align: middle;\n",
       "    }\n",
       "\n",
       "    .dataframe tbody tr th {\n",
       "        vertical-align: top;\n",
       "    }\n",
       "\n",
       "    .dataframe thead th {\n",
       "        text-align: right;\n",
       "    }\n",
       "</style>\n",
       "<table border=\"1\" class=\"dataframe\">\n",
       "  <thead>\n",
       "    <tr style=\"text-align: right;\">\n",
       "      <th></th>\n",
       "      <th>num_filas</th>\n",
       "      <th>num_columnas</th>\n",
       "    </tr>\n",
       "  </thead>\n",
       "  <tbody>\n",
       "    <tr>\n",
       "      <th>0</th>\n",
       "      <td>1716428</td>\n",
       "      <td>17</td>\n",
       "    </tr>\n",
       "  </tbody>\n",
       "</table>\n",
       "</div>"
      ],
      "text/plain": [
       "   num_filas  num_columnas\n",
       "0    1716428            17"
      ]
     },
     "execution_count": 5,
     "metadata": {},
     "output_type": "execute_result"
    }
   ],
   "source": [
    "data = pd.read_sql_query(\"\"\"\n",
    "    SELECT \n",
    "        (SELECT COUNT(*) FROM bureau) AS num_filas,\n",
    "        (SELECT COUNT(*) \n",
    "    FROM information_schema.columns \n",
    "    WHERE table_name = 'bureau' \n",
    "    AND table_schema = 'public') AS num_columnas;\n",
    "\"\"\", conn)\n",
    "\n",
    "data"
   ]
  },
  {
   "cell_type": "markdown",
   "id": "c2822e1a",
   "metadata": {},
   "source": [
    "✅ **Validado !!!**"
   ]
  },
  {
   "cell_type": "markdown",
   "id": "b653807f",
   "metadata": {},
   "source": [
    "#### 🌽 **`bureau_balance.csv`**"
   ]
  },
  {
   "cell_type": "code",
   "execution_count": null,
   "id": "0f2cb644",
   "metadata": {},
   "outputs": [],
   "source": [
    "df = pd.read_csv('/tmp/bureau_balance_bkp.csv')"
   ]
  },
  {
   "cell_type": "code",
   "execution_count": null,
   "id": "81ce6169",
   "metadata": {},
   "outputs": [],
   "source": [
    "df.shape"
   ]
  },
  {
   "cell_type": "code",
   "execution_count": null,
   "id": "9452c68a",
   "metadata": {},
   "outputs": [],
   "source": [
    "data = pd.read_sql_query(\"\"\"\n",
    "    SELECT \n",
    "        (SELECT COUNT(*) FROM bureau_balance) AS num_filas,\n",
    "        (SELECT COUNT(*) \n",
    "    FROM information_schema.columns \n",
    "    WHERE table_name = 'bureau_balance' \n",
    "    AND table_schema = 'public') AS num_columnas;\n",
    "\"\"\", conn)\n",
    "\n",
    "data"
   ]
  },
  {
   "cell_type": "markdown",
   "id": "a64d75b8",
   "metadata": {},
   "source": [
    "✅ **Revisar Duplicados !!!**"
   ]
  },
  {
   "cell_type": "markdown",
   "id": "7fcef30c",
   "metadata": {},
   "source": [
    "#### 🥘 **`previous_application.csv`**"
   ]
  },
  {
   "cell_type": "code",
   "execution_count": null,
   "id": "0d3aef53",
   "metadata": {},
   "outputs": [],
   "source": [
    "df = pd.read_csv('/tmp/previous_application_bkp.csv')"
   ]
  },
  {
   "cell_type": "code",
   "execution_count": null,
   "id": "72213258",
   "metadata": {},
   "outputs": [],
   "source": [
    "df.shape"
   ]
  },
  {
   "cell_type": "code",
   "execution_count": null,
   "id": "9999c072",
   "metadata": {},
   "outputs": [],
   "source": [
    "data = pd.read_sql_query(\"\"\"\n",
    "    SELECT \n",
    "        (SELECT COUNT(*) FROM previous_application) AS num_filas,\n",
    "        (SELECT COUNT(*) \n",
    "    FROM information_schema.columns \n",
    "    WHERE table_name = 'previous_application' \n",
    "    AND table_schema = 'public') AS num_columnas;\n",
    "\"\"\", conn)"
   ]
  },
  {
   "cell_type": "code",
   "execution_count": null,
   "id": "3ad90df9",
   "metadata": {},
   "outputs": [],
   "source": [
    "data"
   ]
  },
  {
   "cell_type": "markdown",
   "id": "5a9bcbcf",
   "metadata": {},
   "source": [
    "❌ **Revisar !!!**"
   ]
  },
  {
   "cell_type": "markdown",
   "id": "a1b0cc31",
   "metadata": {},
   "source": [
    "#### 🍿 **`POS CASH balance schema`**"
   ]
  },
  {
   "cell_type": "code",
   "execution_count": null,
   "id": "73d98744",
   "metadata": {},
   "outputs": [],
   "source": [
    "df = pd.read_csv('/tmp/pos_cash_balance_bkp.csv')"
   ]
  },
  {
   "cell_type": "code",
   "execution_count": null,
   "id": "b8a58e06",
   "metadata": {},
   "outputs": [],
   "source": [
    "df.shape"
   ]
  },
  {
   "cell_type": "code",
   "execution_count": null,
   "id": "be6a4403",
   "metadata": {},
   "outputs": [],
   "source": [
    "data = pd.read_sql_query(\"\"\"\n",
    "    SELECT \n",
    "        (SELECT COUNT(*) FROM pos_cash_balance) AS num_filas,\n",
    "        (SELECT COUNT(*) \n",
    "    FROM information_schema.columns \n",
    "    WHERE table_name = 'pos_cash_balance' \n",
    "    AND table_schema = 'public') AS num_columnas;\n",
    "\"\"\", conn)"
   ]
  },
  {
   "cell_type": "code",
   "execution_count": null,
   "id": "611d81fc",
   "metadata": {},
   "outputs": [],
   "source": [
    "data"
   ]
  },
  {
   "cell_type": "markdown",
   "id": "43486dd7",
   "metadata": {},
   "source": [
    "❌ **Revisar !!!**"
   ]
  },
  {
   "cell_type": "markdown",
   "id": "3d56b3a1",
   "metadata": {},
   "source": [
    "#### 🧀 **`installments_payments schema`**"
   ]
  },
  {
   "cell_type": "code",
   "execution_count": null,
   "id": "d259ef3f",
   "metadata": {},
   "outputs": [],
   "source": [
    "df = pd.read_csv(\"/tmp/installments_payments_bkp.csv\")"
   ]
  },
  {
   "cell_type": "code",
   "execution_count": null,
   "id": "3a66772d",
   "metadata": {},
   "outputs": [],
   "source": [
    "df.shape"
   ]
  },
  {
   "cell_type": "code",
   "execution_count": null,
   "id": "d65f0aa6",
   "metadata": {},
   "outputs": [],
   "source": [
    "data = pd.read_sql_query(\"\"\"\n",
    "    SELECT \n",
    "        (SELECT COUNT(*) FROM installments_payments) AS num_filas,\n",
    "        (SELECT COUNT(*) \n",
    "    FROM information_schema.columns \n",
    "    WHERE table_name = 'installments_payments' \n",
    "    AND table_schema = 'public') AS num_columnas;\n",
    "\"\"\", conn)"
   ]
  },
  {
   "cell_type": "code",
   "execution_count": null,
   "id": "2140c450",
   "metadata": {},
   "outputs": [],
   "source": [
    "data"
   ]
  },
  {
   "cell_type": "markdown",
   "id": "9f03a4d8",
   "metadata": {},
   "source": [
    "❌ **Revisar !!!**"
   ]
  },
  {
   "cell_type": "markdown",
   "id": "96a048cc",
   "metadata": {},
   "source": [
    "#### 🍔 **`credit_card_balance schema`**"
   ]
  },
  {
   "cell_type": "code",
   "execution_count": null,
   "id": "02ff6928",
   "metadata": {},
   "outputs": [],
   "source": [
    "df = pd.read_csv(\"/tmp/credit_card_balance_bkp.csv\")"
   ]
  },
  {
   "cell_type": "code",
   "execution_count": null,
   "id": "4f544ba8",
   "metadata": {},
   "outputs": [],
   "source": [
    "df.shape"
   ]
  },
  {
   "cell_type": "code",
   "execution_count": null,
   "id": "bd2878ec",
   "metadata": {},
   "outputs": [],
   "source": [
    "data = pd.read_sql_query(\"\"\"\n",
    "    SELECT \n",
    "        (SELECT COUNT(*) FROM credit_card_balance) AS num_filas,\n",
    "        (SELECT COUNT(*) \n",
    "    FROM information_schema.columns \n",
    "    WHERE table_name = 'credit_card_balance' \n",
    "    AND table_schema = 'public') AS num_columnas;\n",
    "\"\"\", conn)"
   ]
  },
  {
   "cell_type": "code",
   "execution_count": null,
   "id": "1cd21170",
   "metadata": {},
   "outputs": [],
   "source": [
    "data"
   ]
  },
  {
   "cell_type": "code",
   "execution_count": 6,
   "id": "951d2e1c",
   "metadata": {},
   "outputs": [],
   "source": [
    "conn.close()"
   ]
  }
 ],
 "metadata": {
  "kernelspec": {
   "display_name": "env_credit_databases",
   "language": "python",
   "name": "python3"
  },
  "language_info": {
   "codemirror_mode": {
    "name": "ipython",
    "version": 3
   },
   "file_extension": ".py",
   "mimetype": "text/x-python",
   "name": "python",
   "nbconvert_exporter": "python",
   "pygments_lexer": "ipython3",
   "version": "3.10.17"
  }
 },
 "nbformat": 4,
 "nbformat_minor": 5
}
