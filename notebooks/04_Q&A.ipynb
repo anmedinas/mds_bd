{
 "cells": [
  {
   "cell_type": "markdown",
   "id": "069e63e9",
   "metadata": {},
   "source": [
    "### 🚀 **`Questions & Answers`**"
   ]
  },
  {
   "cell_type": "code",
   "execution_count": 1,
   "id": "e91ea1bb",
   "metadata": {},
   "outputs": [],
   "source": [
    "from matplotlib import pyplot as plt \n",
    "import seaborn as sns\n",
    "\n",
    "import pandas as pd \n",
    "import config\n",
    "import psycopg2\n",
    "import warnings\n",
    "\n",
    "warnings.filterwarnings('ignore')\n",
    "sns.set_style(\"dark\")"
   ]
  },
  {
   "cell_type": "code",
   "execution_count": 2,
   "id": "7414ad87",
   "metadata": {},
   "outputs": [],
   "source": [
    "conn = psycopg2.connect(\n",
    "    dbname = config.DATABASE,\n",
    "    user = config.USER, \n",
    "    password = config.PASS,\n",
    "    host = \"localhost\",\n",
    "    port = \"5432\"\n",
    ")"
   ]
  },
  {
   "cell_type": "markdown",
   "id": "b438167c",
   "metadata": {},
   "source": [
    "#### 📌 `Pregunta 1.`\n",
    "\n",
    "¿ Cómo influyen los ingresos y el monto de crédito solicitado en la probabilidad de incumplimiento ?\n",
    "\n",
    "**`Respuesta:`** Construir ratio : \n",
    "\n",
    "\\begin{equation*}\n",
    "\\textsf{Ratio}_{\\textsf{CI}} = \\frac{\\textsf{AMC\\_CREDIT}}{\\textsf{AMT\\_INCOME\\_TOTAL}}\n",
    "\\end{equation*}"
   ]
  },
  {
   "cell_type": "code",
   "execution_count": 3,
   "id": "bb21b602",
   "metadata": {},
   "outputs": [],
   "source": [
    "## Query \n",
    "\n",
    "preg_01 = pd.read_sql_query(\"\"\"\n",
    "SELECT \n",
    "  credit_income_ratio_bucket,\n",
    "  AVG(TARGET) AS default_rate,\n",
    "  COUNT(*) AS num_clients\n",
    "FROM (\n",
    "  SELECT \n",
    "    TARGET,\n",
    "    NTILE(10) OVER (ORDER BY AMT_CREDIT / NULLIF(AMT_INCOME_TOTAL, 0)) AS credit_income_ratio_bucket\n",
    "  FROM application_train\n",
    "  WHERE AMT_INCOME_TOTAL > 0\n",
    ")\n",
    "GROUP BY credit_income_ratio_bucket\n",
    "ORDER BY credit_income_ratio_bucket;\n",
    "\"\"\", conn)"
   ]
  },
  {
   "cell_type": "code",
   "execution_count": 4,
   "id": "7d497795",
   "metadata": {},
   "outputs": [
    {
     "data": {
      "text/html": [
       "<div>\n",
       "<style scoped>\n",
       "    .dataframe tbody tr th:only-of-type {\n",
       "        vertical-align: middle;\n",
       "    }\n",
       "\n",
       "    .dataframe tbody tr th {\n",
       "        vertical-align: top;\n",
       "    }\n",
       "\n",
       "    .dataframe thead th {\n",
       "        text-align: right;\n",
       "    }\n",
       "</style>\n",
       "<table border=\"1\" class=\"dataframe\">\n",
       "  <thead>\n",
       "    <tr style=\"text-align: right;\">\n",
       "      <th></th>\n",
       "      <th>credit_income_ratio_bucket</th>\n",
       "      <th>default_rate</th>\n",
       "      <th>num_clients</th>\n",
       "    </tr>\n",
       "  </thead>\n",
       "  <tbody>\n",
       "    <tr>\n",
       "      <th>0</th>\n",
       "      <td>1</td>\n",
       "      <td>0.069101</td>\n",
       "      <td>30752</td>\n",
       "    </tr>\n",
       "    <tr>\n",
       "      <th>1</th>\n",
       "      <td>2</td>\n",
       "      <td>0.077623</td>\n",
       "      <td>30751</td>\n",
       "    </tr>\n",
       "    <tr>\n",
       "      <th>2</th>\n",
       "      <td>3</td>\n",
       "      <td>0.081136</td>\n",
       "      <td>30751</td>\n",
       "    </tr>\n",
       "    <tr>\n",
       "      <th>3</th>\n",
       "      <td>4</td>\n",
       "      <td>0.090143</td>\n",
       "      <td>30751</td>\n",
       "    </tr>\n",
       "    <tr>\n",
       "      <th>4</th>\n",
       "      <td>5</td>\n",
       "      <td>0.086566</td>\n",
       "      <td>30751</td>\n",
       "    </tr>\n",
       "    <tr>\n",
       "      <th>5</th>\n",
       "      <td>6</td>\n",
       "      <td>0.091964</td>\n",
       "      <td>30751</td>\n",
       "    </tr>\n",
       "    <tr>\n",
       "      <th>6</th>\n",
       "      <td>7</td>\n",
       "      <td>0.086176</td>\n",
       "      <td>30751</td>\n",
       "    </tr>\n",
       "    <tr>\n",
       "      <th>7</th>\n",
       "      <td>8</td>\n",
       "      <td>0.079510</td>\n",
       "      <td>30751</td>\n",
       "    </tr>\n",
       "    <tr>\n",
       "      <th>8</th>\n",
       "      <td>9</td>\n",
       "      <td>0.074307</td>\n",
       "      <td>30751</td>\n",
       "    </tr>\n",
       "    <tr>\n",
       "      <th>9</th>\n",
       "      <td>10</td>\n",
       "      <td>0.070762</td>\n",
       "      <td>30751</td>\n",
       "    </tr>\n",
       "  </tbody>\n",
       "</table>\n",
       "</div>"
      ],
      "text/plain": [
       "   credit_income_ratio_bucket  default_rate  num_clients\n",
       "0                           1      0.069101        30752\n",
       "1                           2      0.077623        30751\n",
       "2                           3      0.081136        30751\n",
       "3                           4      0.090143        30751\n",
       "4                           5      0.086566        30751\n",
       "5                           6      0.091964        30751\n",
       "6                           7      0.086176        30751\n",
       "7                           8      0.079510        30751\n",
       "8                           9      0.074307        30751\n",
       "9                          10      0.070762        30751"
      ]
     },
     "execution_count": 4,
     "metadata": {},
     "output_type": "execute_result"
    }
   ],
   "source": [
    "preg_01"
   ]
  },
  {
   "cell_type": "markdown",
   "id": "483c4e9a",
   "metadata": {},
   "source": [
    "#### 📌 `Pregunta 2.`\n",
    "\n",
    "¿Los clientes con créditos previos en otras instituciones tienen un menor riesgo de incumplimiento ? "
   ]
  },
  {
   "cell_type": "code",
   "execution_count": 5,
   "id": "bc69d355",
   "metadata": {},
   "outputs": [],
   "source": [
    "## Query"
   ]
  },
  {
   "cell_type": "markdown",
   "id": "ca514109",
   "metadata": {},
   "source": [
    "#### 📌 `Pregunta 3.`\n",
    "\n",
    "¿Cómo influye el tipo de crédito solicitado en la tasa de incumplimiento ? "
   ]
  },
  {
   "cell_type": "code",
   "execution_count": 6,
   "id": "775954d6",
   "metadata": {},
   "outputs": [],
   "source": [
    "## Query"
   ]
  },
  {
   "cell_type": "markdown",
   "id": "845cc7f5",
   "metadata": {},
   "source": [
    "#### 📌 `Pregunta 4.`\n",
    "\n",
    "¿Existe una relación entre el saldo actual en la tarjeta de crédito y el incumplimiento? "
   ]
  },
  {
   "cell_type": "code",
   "execution_count": 7,
   "id": "da0e4333",
   "metadata": {},
   "outputs": [],
   "source": [
    "## Query"
   ]
  },
  {
   "cell_type": "markdown",
   "id": "084b8d15",
   "metadata": {},
   "source": [
    "#### 📌 `Pregunta 5.`\n",
    "\n",
    "\n",
    "¿Los clientes con altos niveles de uso de líneas de crédito tienen mayor riesgo de default ?"
   ]
  },
  {
   "cell_type": "code",
   "execution_count": 8,
   "id": "1bee2f87",
   "metadata": {},
   "outputs": [],
   "source": [
    "## Query"
   ]
  },
  {
   "cell_type": "markdown",
   "id": "e64e3aa8",
   "metadata": {},
   "source": [
    "#### 📌 `Pregunta 6.`\n",
    "\n",
    "\n",
    "\n",
    "¿Los clientes cuyos créditos previos fueron rechazados tienen una mayor probabilidad de incumplir en futuras solicitudes ?"
   ]
  },
  {
   "cell_type": "code",
   "execution_count": 9,
   "id": "f8a14bb5",
   "metadata": {},
   "outputs": [],
   "source": [
    "## Query"
   ]
  },
  {
   "cell_type": "markdown",
   "id": "a5d72809",
   "metadata": {},
   "source": [
    "#### 📌 `Pregunta 7.`\n",
    "\n",
    "\n",
    "¿Cuál es la tasa de default de clientes que viven con su familia (`NAME_TYPE_SUITE = 'Family'`) y que tienen al menos un hijo (`CNT_CHILDREN > 0`), en comparación con quienes viven solos y sin hijos, segmentado por deciles de ingreso ?"
   ]
  },
  {
   "cell_type": "code",
   "execution_count": 10,
   "id": "698e700e",
   "metadata": {},
   "outputs": [],
   "source": [
    "## Query"
   ]
  },
  {
   "cell_type": "markdown",
   "id": "c8898fe6",
   "metadata": {},
   "source": [
    "#### 📌 `Pregunta 8.`\n",
    "\n",
    "¿Cómo varía la tasa de default entre personas que viven en departamentos alquilados o comunales y tienen educación secundaria o menor, en comparación con quienes son propietarios con educación superior, segmentado por deciles de ingreso?\n"
   ]
  },
  {
   "cell_type": "code",
   "execution_count": 11,
   "id": "8de7ce21",
   "metadata": {},
   "outputs": [],
   "source": [
    "## Query"
   ]
  },
  {
   "cell_type": "code",
   "execution_count": 12,
   "id": "a7a59bc5",
   "metadata": {},
   "outputs": [],
   "source": [
    "conn.close()"
   ]
  },
  {
   "cell_type": "code",
   "execution_count": null,
   "id": "a741e4fc",
   "metadata": {},
   "outputs": [],
   "source": []
  },
  {
   "cell_type": "markdown",
   "id": "098519e2",
   "metadata": {},
   "source": []
  }
 ],
 "metadata": {
  "kernelspec": {
   "display_name": "env_credit_databases",
   "language": "python",
   "name": "python3"
  },
  "language_info": {
   "codemirror_mode": {
    "name": "ipython",
    "version": 3
   },
   "file_extension": ".py",
   "mimetype": "text/x-python",
   "name": "python",
   "nbconvert_exporter": "python",
   "pygments_lexer": "ipython3",
   "version": "3.10.17"
  }
 },
 "nbformat": 4,
 "nbformat_minor": 5
}
