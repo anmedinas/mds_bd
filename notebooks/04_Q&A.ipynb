{
 "cells": [
  {
   "cell_type": "markdown",
   "id": "069e63e9",
   "metadata": {},
   "source": [
    "### 🚀 **`Questions & Answers`**"
   ]
  },
  {
   "cell_type": "code",
   "execution_count": null,
   "id": "e91ea1bb",
   "metadata": {},
   "outputs": [],
   "source": [
    "import pandas as pd \n",
    "import config\n",
    "import psycopg2\n",
    "import warnings\n",
    "\n",
    "warnings.filterwarnings('ignore')"
   ]
  },
  {
   "cell_type": "markdown",
   "id": "b438167c",
   "metadata": {},
   "source": [
    "#### 📌 `Pregunta 1.`\n",
    "\n",
    "¿ Cómo influyen los ingresos y el monto de crédito solicitado en la probabilidad de incumplimiento ?"
   ]
  },
  {
   "cell_type": "code",
   "execution_count": null,
   "id": "bb21b602",
   "metadata": {},
   "outputs": [],
   "source": [
    "## Query "
   ]
  },
  {
   "cell_type": "markdown",
   "id": "483c4e9a",
   "metadata": {},
   "source": [
    "#### 📌 `Pregunta 2.`\n",
    "\n",
    "¿Los clientes con créditos previos en otras instituciones tienen un menor riesgo de incumplimiento ? "
   ]
  },
  {
   "cell_type": "code",
   "execution_count": null,
   "id": "bc69d355",
   "metadata": {},
   "outputs": [],
   "source": [
    "## Query"
   ]
  },
  {
   "cell_type": "markdown",
   "id": "ca514109",
   "metadata": {},
   "source": [
    "#### 📌 `Pregunta 3.`\n",
    "\n",
    "¿Cómo influye el tipo de crédito solicitado en la tasa de incumplimiento ? "
   ]
  },
  {
   "cell_type": "code",
   "execution_count": null,
   "id": "775954d6",
   "metadata": {},
   "outputs": [],
   "source": [
    "## Query"
   ]
  },
  {
   "cell_type": "markdown",
   "id": "845cc7f5",
   "metadata": {},
   "source": [
    "#### 📌 `Pregunta 4.`\n",
    "\n",
    "¿Existe una relación entre el saldo actual en la tarjeta de crédito y el incumplimiento? "
   ]
  },
  {
   "cell_type": "code",
   "execution_count": null,
   "id": "da0e4333",
   "metadata": {},
   "outputs": [],
   "source": [
    "## Query"
   ]
  },
  {
   "cell_type": "markdown",
   "id": "084b8d15",
   "metadata": {},
   "source": [
    "#### 📌 `Pregunta 5.`\n",
    "\n",
    "\n",
    "¿Los clientes con altos niveles de uso de líneas de crédito tienen mayor riesgo de default ?"
   ]
  },
  {
   "cell_type": "code",
   "execution_count": null,
   "id": "1bee2f87",
   "metadata": {},
   "outputs": [],
   "source": [
    "## Query"
   ]
  },
  {
   "cell_type": "markdown",
   "id": "e64e3aa8",
   "metadata": {},
   "source": [
    "#### 📌 `Pregunta 6.`\n",
    "\n",
    "\n",
    "\n",
    "¿Los clientes cuyos créditos previos fueron rechazados tienen una mayor probabilidad de incumplir en futuras solicitudes ?"
   ]
  },
  {
   "cell_type": "code",
   "execution_count": null,
   "id": "f8a14bb5",
   "metadata": {},
   "outputs": [],
   "source": [
    "## Query"
   ]
  },
  {
   "cell_type": "markdown",
   "id": "a5d72809",
   "metadata": {},
   "source": [
    "#### 📌 `Pregunta 7.`\n",
    "\n",
    "\n",
    "¿Cuál es la tasa de default de clientes que viven con su familia (`NAME_TYPE_SUITE = 'Family'`) y que tienen al menos un hijo (`CNT_CHILDREN > 0`), en comparación con quienes viven solos y sin hijos, segmentado por deciles de ingreso ?"
   ]
  },
  {
   "cell_type": "code",
   "execution_count": null,
   "id": "698e700e",
   "metadata": {},
   "outputs": [],
   "source": [
    "## Query"
   ]
  },
  {
   "cell_type": "markdown",
   "id": "c8898fe6",
   "metadata": {},
   "source": [
    "#### 📌 `Pregunta 8.`\n",
    "\n",
    "¿Cómo varía la tasa de default entre personas que viven en departamentos alquilados o comunales y tienen educación secundaria o menor, en comparación con quienes son propietarios con educación superior, segmentado por deciles de ingreso?\n"
   ]
  },
  {
   "cell_type": "code",
   "execution_count": null,
   "id": "8de7ce21",
   "metadata": {},
   "outputs": [],
   "source": [
    "## Query"
   ]
  },
  {
   "cell_type": "markdown",
   "id": "098519e2",
   "metadata": {},
   "source": []
  }
 ],
 "metadata": {
  "kernelspec": {
   "display_name": "env_credit_databases",
   "language": "python",
   "name": "python3"
  },
  "language_info": {
   "name": "python",
   "version": "3.10.17"
  }
 },
 "nbformat": 4,
 "nbformat_minor": 5
}
