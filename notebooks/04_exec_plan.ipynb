{
 "cells": [
  {
   "cell_type": "markdown",
   "id": "22863460",
   "metadata": {},
   "source": [
    "### 🚀 **`Optimización de Querys`**"
   ]
  },
  {
   "cell_type": "code",
   "execution_count": 1,
   "id": "17705847",
   "metadata": {},
   "outputs": [],
   "source": [
    "import config\n",
    "import psycopg2"
   ]
  },
  {
   "cell_type": "code",
   "execution_count": 2,
   "id": "a2693952",
   "metadata": {},
   "outputs": [],
   "source": [
    "## Abro conexión\n",
    "conn = psycopg2.connect(\n",
    "    dbname = config.DATABASE,\n",
    "    user = config.USER, \n",
    "    password = config.PASS,\n",
    "    host = \"localhost\",\n",
    "    port = \"5432\"\n",
    ")\n",
    "\n",
    "cursor = conn.cursor()"
   ]
  },
  {
   "cell_type": "markdown",
   "id": "8965e50c",
   "metadata": {},
   "source": [
    "### `Plan de Ejecución`"
   ]
  },
  {
   "cell_type": "markdown",
   "id": "10b56394",
   "metadata": {},
   "source": [
    "#### 📌 `Query Pregunta 1.`"
   ]
  },
  {
   "cell_type": "code",
   "execution_count": 3,
   "id": "a5ddce2d",
   "metadata": {},
   "outputs": [
    {
     "name": "stdout",
     "output_type": "stream",
     "text": [
      "Sort  (cost=112172.46..112249.33 rows=30751 width=56) (actual time=497.531..497.535 rows=100 loops=1)\n",
      "  Sort Key: (ntile(10) OVER (?)), (ntile(10) OVER (?))\n",
      "  Sort Method: quicksort  Memory: 29kB\n",
      "  ->  HashAggregate  (cost=109188.33..109880.22 rows=30751 width=56) (actual time=497.320..497.503 rows=100 loops=1)\n",
      "        Group Key: ntile(10) OVER (?), (ntile(10) OVER (?))\n",
      "        Batches: 1  Memory Usage: 1569kB\n",
      "        ->  WindowAgg  (cost=97656.68..103038.11 rows=307511 width=28) (actual time=451.746..478.384 rows=307511 loops=1)\n",
      "              ->  Sort  (cost=97656.66..98425.44 rows=307511 width=20) (actual time=405.905..430.636 rows=307511 loops=1)\n",
      "                    Sort Key: application_train.amt_income_total\n",
      "                    Sort Method: external merge  Disk: 9896kB\n",
      "                    ->  WindowAgg  (cost=57938.18..63319.61 rows=307511 width=20) (actual time=331.043..357.392 rows=307511 loops=1)\n",
      "                          ->  Sort  (cost=57938.17..58706.94 rows=307511 width=16) (actual time=276.078..306.922 rows=307511 loops=1)\n",
      "                                Sort Key: application_train.amt_credit\n",
      "                                Sort Method: external merge  Disk: 8688kB\n",
      "                                ->  Seq Scan on application_train  (cost=0.00..24651.11 rows=307511 width=16) (actual time=0.478..146.130 rows=307511 loops=1)\n",
      "Planning Time: 22.270 ms\n",
      "Execution Time: 501.246 ms\n"
     ]
    }
   ],
   "source": [
    "query = \"\"\"\n",
    "EXPLAIN ANALYZE\n",
    "WITH income_credit_bins AS (\n",
    "  SELECT \n",
    "    SK_ID_CURR,\n",
    "    TARGET,\n",
    "    NTILE(10) OVER (ORDER BY AMT_INCOME_TOTAL) AS income_decile,\n",
    "    NTILE(10) OVER (ORDER BY AMT_CREDIT) AS credit_decile\n",
    "  FROM application_train\n",
    ")\n",
    "SELECT \n",
    "  income_decile,\n",
    "  credit_decile,\n",
    "  COUNT(*) AS total_clients,\n",
    "  SUM(TARGET) AS total_defaults,\n",
    "  ROUND(SUM(TARGET) * 1.0 / COUNT(*), 4) AS default_rate\n",
    "FROM income_credit_bins\n",
    "GROUP BY income_decile, credit_decile\n",
    "ORDER BY income_decile, credit_decile;\n",
    "\"\"\"\n",
    "\n",
    "cursor.execute(query)\n",
    "plan = cursor.fetchall()\n",
    "for row in plan:\n",
    "    print(row[0])\n"
   ]
  },
  {
   "cell_type": "markdown",
   "id": "08752ffc",
   "metadata": {},
   "source": [
    "**Análisis** \n",
    "\n",
    "El plan de ejecución para la query que responde la pregunta 1, muestra que la query realiza un escaneo secuencial completo sobre la tabla `application_train` y utiliza ordenamientos (sort) sobre las columnas `AMT_INCOME_TOTAL` y `AMT_CREDIT` para calcular los deciles. Estos ordenamientos son costosos y utilizan disco, lo que puede afectar el rendimiento si la tabla crece.\n",
    "\n",
    "Actualmente, no se están utilizando índices en estas columnas, lo que explica el uso del escaneo secuencial y los altos tiempos de procesamiento en los pasos de ordenamiento.\n",
    "\n",
    "De lo anterior, se desprenden algunas recomendaciones para optimizar la consulta:\n",
    "\n",
    "* Crear índices sobre las columnas `AMT_INCOME_TOTAL` y `AMT_CREDIT` para acelerar los procesos de ordenamiento y mejorar el rendimiento de la consulta, especialmente si la tabla es grande o la consulta se ejecuta frecuentemente.\n",
    "  \n",
    "* Monitorear el uso de disco y memoria durante los ordenamientos, ya que un mayor tamaño de tabla puede incrementar significativamente los recursos requeridos.\n",
    "\n",
    "* Revisar periódicamente el plan de ejecución tras crear los índices para confirmar que el motor de base de datos los está utilizando y que el rendimiento mejora."
   ]
  },
  {
   "cell_type": "markdown",
   "id": "a1d1f9dc",
   "metadata": {},
   "source": [
    "#### 📌 `Query Pregunta 2.`"
   ]
  },
  {
   "cell_type": "code",
   "execution_count": 4,
   "id": "e35ed580",
   "metadata": {},
   "outputs": [
    {
     "name": "stdout",
     "output_type": "stream",
     "text": [
      "Finalize GroupAggregate  (cost=98479.55..98533.72 rows=200 width=52) (actual time=472.534..473.815 rows=2 loops=1)\n",
      "  Group Key: (CASE WHEN (b.total_bureau_records IS NULL) THEN 0 ELSE 1 END)\n",
      "  ->  Gather Merge  (cost=98479.55..98526.22 rows=400 width=20) (actual time=472.527..473.808 rows=6 loops=1)\n",
      "        Workers Planned: 2\n",
      "        Workers Launched: 2\n",
      "        ->  Sort  (cost=97479.52..97480.02 rows=200 width=20) (actual time=467.232..467.234 rows=2 loops=3)\n",
      "              Sort Key: (CASE WHEN (b.total_bureau_records IS NULL) THEN 0 ELSE 1 END)\n",
      "              Sort Method: quicksort  Memory: 25kB\n",
      "              Worker 0:  Sort Method: quicksort  Memory: 25kB\n",
      "              Worker 1:  Sort Method: quicksort  Memory: 25kB\n",
      "              ->  Partial HashAggregate  (cost=97469.88..97471.88 rows=200 width=20) (actual time=467.219..467.221 rows=2 loops=3)\n",
      "                    Group Key: CASE WHEN (b.total_bureau_records IS NULL) THEN 0 ELSE 1 END\n",
      "                    Batches: 1  Memory Usage: 40kB\n",
      "                    Worker 0:  Batches: 1  Memory Usage: 40kB\n",
      "                    Worker 1:  Batches: 1  Memory Usage: 40kB\n",
      "                    ->  Hash Left Join  (cost=71349.27..96508.90 rows=128130 width=8) (actual time=396.824..460.808 rows=102504 loops=3)\n",
      "                          Hash Cond: (a.sk_id_curr = b.sk_id_curr)\n",
      "                          ->  Parallel Seq Scan on application_train a  (cost=0.00..22857.30 rows=128130 width=8) (actual time=0.039..13.476 rows=102504 loops=3)\n",
      "                          ->  Hash  (cost=67917.47..67917.47 rows=197424 width=12) (actual time=396.340..396.341 rows=305811 loops=3)\n",
      "                                Buckets: 262144 (originally 262144)  Batches: 4 (originally 2)  Memory Usage: 6145kB\n",
      "                                ->  Subquery Scan on b  (cost=0.43..67917.47 rows=197424 width=12) (actual time=0.226..347.087 rows=305811 loops=3)\n",
      "                                      ->  GroupAggregate  (cost=0.43..65943.23 rows=197424 width=12) (actual time=0.225..333.198 rows=305811 loops=3)\n",
      "                                            Group Key: bureau.sk_id_curr\n",
      "                                            ->  Index Only Scan using pk_bureau on bureau  (cost=0.43..55386.85 rows=1716428 width=4) (actual time=0.222..252.641 rows=1716428 loops=3)\n",
      "                                                  Heap Fetches: 0\n",
      "Planning Time: 6.029 ms\n",
      "Execution Time: 474.332 ms\n"
     ]
    }
   ],
   "source": [
    "query = \"\"\"\n",
    "EXPLAIN ANALYZE\n",
    "WITH bureau_flags AS (\n",
    "  SELECT \n",
    "    SK_ID_CURR,\n",
    "    COUNT(*) AS total_bureau_records\n",
    "  FROM bureau\n",
    "  GROUP BY SK_ID_CURR\n",
    "),\n",
    "flags_joined AS (\n",
    "  SELECT \n",
    "    a.SK_ID_CURR,\n",
    "    a.TARGET,\n",
    "    CASE WHEN b.total_bureau_records IS NULL THEN 0 ELSE 1 END AS has_bureau_record\n",
    "  FROM application_train a\n",
    "  LEFT JOIN bureau_flags b ON a.SK_ID_CURR = b.SK_ID_CURR\n",
    ")\n",
    "SELECT \n",
    "  has_bureau_record,\n",
    "  COUNT(*) AS total_clients,\n",
    "  SUM(TARGET) AS total_defaults,\n",
    "  ROUND(SUM(TARGET) * 1.0 / COUNT(*), 4) AS default_rate\n",
    "FROM flags_joined\n",
    "GROUP BY has_bureau_record;\n",
    "\"\"\"\n",
    "\n",
    "cursor.execute(query)\n",
    "plan = cursor.fetchall()\n",
    "for row in plan:\n",
    "    print(row[0])"
   ]
  },
  {
   "cell_type": "markdown",
   "id": "0d9ed315",
   "metadata": {},
   "source": [
    "**Análisis** \n",
    "\n",
    "El plan de ejecución para la segunda consulta muestra que se realiza un Hash Left Join entre las tablas application_train y bureau, utilizando procesamiento en paralelo (tres procesos en total). El acceso a la tabla application_train se realiza mediante un escaneo secuencial paralelo, mientras que la tabla bureau se agrupa previamente por SK_ID_CURR usando un GroupAggregate y se accede eficientemente mediante un Index Only Scan sobre su clave primaria.\n",
    "\n",
    "A pesar del uso de paralelismo y de un índice en bureau, la consulta sigue siendo costosa en tiempo de ejecución (alrededor de 820 ms) debido a la gran cantidad de filas procesadas y la necesidad de agrupar y unir grandes volúmenes de datos.\n",
    "\n",
    "Para optimizar esta consulta, se podrían considerar las siguientes acciones:\n",
    "\n",
    "* Evaluar la creación de un índice sobre `SK_ID_CURR` en application_train si se realizan muchas uniones similares, para facilitar futuros joins.\n",
    "  \n",
    "* Monitorear el uso de recursos (memoria y CPU) durante el procesamiento paralelo, especialmente si la base de datos se encuentra en un entorno compartido.\n",
    "\n",
    "* Revisar la cardinalidad y el tamaño de las tablas: Si la tabla bureau crece significativamente, considera estrategias de particionamiento o ajustes en la configuración de paralelismo de PostgreSQL.\n",
    "\n",
    "* Revisar periódicamente el plan de ejecución tras cambios en los índices o en el volumen de datos, para asegurar que el motor de base de datos sigue utilizando los caminos más eficientes."
   ]
  },
  {
   "cell_type": "markdown",
   "id": "57b0dd57",
   "metadata": {},
   "source": [
    "#### 📌 `Query Pregunta 3.`"
   ]
  },
  {
   "cell_type": "code",
   "execution_count": 5,
   "id": "3a06e726",
   "metadata": {},
   "outputs": [
    {
     "name": "stdout",
     "output_type": "stream",
     "text": [
      "Sort  (cost=24818.88..24818.88 rows=2 width=59) (actual time=21.823..22.632 rows=2 loops=1)\n",
      "  Sort Key: (round((((sum(target))::numeric * 1.0) / (count(*))::numeric), 4)) DESC\n",
      "  Sort Method: quicksort  Memory: 25kB\n",
      "  ->  Finalize GroupAggregate  (cost=24818.32..24818.87 rows=2 width=59) (actual time=21.815..22.626 rows=2 loops=1)\n",
      "        Group Key: name_contract_type\n",
      "        ->  Gather Merge  (cost=24818.32..24818.79 rows=4 width=27) (actual time=21.808..22.618 rows=6 loops=1)\n",
      "              Workers Planned: 2\n",
      "              Workers Launched: 2\n",
      "              ->  Sort  (cost=23818.30..23818.31 rows=2 width=27) (actual time=19.289..19.289 rows=2 loops=3)\n",
      "                    Sort Key: name_contract_type\n",
      "                    Sort Method: quicksort  Memory: 25kB\n",
      "                    Worker 0:  Sort Method: quicksort  Memory: 25kB\n",
      "                    Worker 1:  Sort Method: quicksort  Memory: 25kB\n",
      "                    ->  Partial HashAggregate  (cost=23818.27..23818.29 rows=2 width=27) (actual time=19.276..19.277 rows=2 loops=3)\n",
      "                          Group Key: name_contract_type\n",
      "                          Batches: 1  Memory Usage: 24kB\n",
      "                          Worker 0:  Batches: 1  Memory Usage: 24kB\n",
      "                          Worker 1:  Batches: 1  Memory Usage: 24kB\n",
      "                          ->  Parallel Seq Scan on application_train  (cost=0.00..22857.30 rows=128130 width=15) (actual time=0.037..10.719 rows=102504 loops=3)\n",
      "Planning Time: 0.092 ms\n",
      "Execution Time: 22.728 ms\n"
     ]
    }
   ],
   "source": [
    "query = \"\"\"\n",
    "EXPLAIN ANALYZE\n",
    "SELECT \n",
    "  NAME_CONTRACT_TYPE,\n",
    "  COUNT(*) AS total_clients,\n",
    "  SUM(TARGET) AS total_defaults,\n",
    "  ROUND(SUM(TARGET) * 1.0 / COUNT(*), 4) AS default_rate\n",
    "FROM application_train\n",
    "GROUP BY NAME_CONTRACT_TYPE\n",
    "ORDER BY default_rate DESC;\n",
    "\"\"\"\n",
    "\n",
    "cursor.execute(query)\n",
    "plan = cursor.fetchall()\n",
    "for row in plan:\n",
    "    print(row[0])"
   ]
  },
  {
   "cell_type": "markdown",
   "id": "01205d0f",
   "metadata": {},
   "source": [
    "**Análisis** \n",
    "\n",
    "El plan de ejecución para esta consulta de la pregunta 3, muestra que se realiza un escaneo secuencial paralelo sobre la tabla application_train, seguido de una agregación por el campo `NAME_CONTRACT_TYPE` utilizando procesamiento en paralelo. Posteriormente, los resultados se ordenan (Sort) por la tasa de default calculada, empleando el método quicksort en memoria.\n",
    "\n",
    "El uso de procesamiento paralelo permite distribuir la carga entre varios trabajadores, lo que mejora el tiempo de respuesta (aproximadamente 127 ms en total). Sin embargo, el acceso a los datos sigue siendo mediante escaneo secuencial, lo que puede ser ineficiente si la tabla crece significativamente.\n",
    "\n",
    "Para optimizar esta consulta, se podrían considerar las siguientes acciones:\n",
    "\n",
    "* Considerar la creación de un índice sobre `NAME_CONTRACT_TYPE` si la cardinalidad de este campo aumenta o si la consulta se vuelve más compleja, aunque para agregaciones simples y pocos grupos el beneficio puede ser limitado.\n",
    "\n",
    "* Monitorear el rendimiento a medida que crece la tabla, ya que el escaneo secuencial podría impactar los tiempos de respuesta en el futuro.\n",
    "\n",
    "* Aprovechar el procesamiento paralelo, pero revisar la configuración de recursos del servidor para asegurar que el paralelismo no afecte otras operaciones críticas.\n",
    "\n",
    "* Revisar periódicamente el plan de ejecución para confirmar que el motor de base de datos sigue utilizando los caminos más eficientes y ajustar los índices si cambian los patrones de consulta."
   ]
  },
  {
   "cell_type": "markdown",
   "id": "39768f5d",
   "metadata": {},
   "source": [
    "#### 📌 `Query Pregunta 4.`"
   ]
  },
  {
   "cell_type": "code",
   "execution_count": 6,
   "id": "f6285429",
   "metadata": {},
   "outputs": [
    {
     "name": "stdout",
     "output_type": "stream",
     "text": [
      "Sort  (cost=292098.21..292098.71 rows=200 width=52) (actual time=1248.635..1248.659 rows=10 loops=1)\n",
      "  Sort Key: (ntile(10) OVER (?))\n",
      "  Sort Method: quicksort  Memory: 25kB\n",
      "  ->  HashAggregate  (cost=292086.06..292090.56 rows=200 width=52) (actual time=1248.621..1248.647 rows=10 loops=1)\n",
      "        Group Key: ntile(10) OVER (?)\n",
      "        Batches: 1  Memory Usage: 40kB\n",
      "        ->  WindowAgg  (cost=281323.19..286704.62 rows=307511 width=44) (actual time=1203.517..1231.254 rows=307511 loops=1)\n",
      "              ->  Sort  (cost=281323.18..282091.95 rows=307511 width=36) (actual time=1173.008..1187.351 rows=307511 loops=1)\n",
      "                    Sort Key: c.avg_balance\n",
      "                    Sort Method: external merge  Disk: 5200kB\n",
      "                    ->  Hash Left Join  (cost=219424.28..244882.62 rows=307511 width=36) (actual time=1087.748..1145.005 rows=307511 loops=1)\n",
      "                          Hash Cond: (a.sk_id_curr = c.sk_id_curr)\n",
      "                          ->  Seq Scan on application_train a  (cost=0.00..24651.11 rows=307511 width=8) (actual time=0.010..24.454 rows=307511 loops=1)\n",
      "                          ->  Hash  (cost=218675.98..218675.98 rows=59864 width=36) (actual time=1087.705..1087.725 rows=103558 loops=1)\n",
      "                                Buckets: 131072 (originally 65536)  Batches: 1 (originally 1)  Memory Usage: 5811kB\n",
      "                                ->  Subquery Scan on c  (cost=202461.84..218675.98 rows=59864 width=36) (actual time=990.650..1081.359 rows=103558 loops=1)\n",
      "                                      ->  Finalize GroupAggregate  (cost=202461.84..218077.34 rows=59864 width=36) (actual time=990.649..1076.965 rows=103558 loops=1)\n",
      "                                            Group Key: credit_card_balance.sk_id_curr\n",
      "                                            ->  Gather Merge  (cost=202461.84..216431.08 rows=119728 width=36) (actual time=990.641..1016.771 rows=302158 loops=1)\n",
      "                                                  Workers Planned: 2\n",
      "                                                  Workers Launched: 2\n",
      "                                                  ->  Sort  (cost=201461.82..201611.48 rows=59864 width=36) (actual time=983.982..989.022 rows=100719 loops=3)\n",
      "                                                        Sort Key: credit_card_balance.sk_id_curr\n",
      "                                                        Sort Method: external merge  Disk: 7792kB\n",
      "                                                        Worker 0:  Sort Method: external merge  Disk: 7752kB\n",
      "                                                        Worker 1:  Sort Method: external merge  Disk: 7824kB\n",
      "                                                        ->  Partial HashAggregate  (cost=180332.14..196711.79 rows=59864 width=36) (actual time=759.810..961.665 rows=100719 loops=3)\n",
      "                                                              Group Key: credit_card_balance.sk_id_curr\n",
      "                                                              Planned Partitions: 4  Batches: 21  Memory Usage: 8497kB  Disk Usage: 32120kB\n",
      "                                                              Worker 0:  Batches: 21  Memory Usage: 8497kB  Disk Usage: 31872kB\n",
      "                                                              Worker 1:  Batches: 21  Memory Usage: 8497kB  Disk Usage: 32536kB\n",
      "                                                              ->  Parallel Seq Scan on credit_card_balance  (cost=0.00..77790.50 rows=1600650 width=9) (actual time=0.156..418.262 rows=1280104 loops=3)\n",
      "Planning Time: 1.148 ms\n",
      "Execution Time: 1255.889 ms\n"
     ]
    }
   ],
   "source": [
    "query = \"\"\"\n",
    "EXPLAIN ANALYZE\n",
    "WITH credit_balance AS (\n",
    "  SELECT \n",
    "    SK_ID_CURR,\n",
    "    AVG(AMT_BALANCE) AS avg_balance\n",
    "  FROM credit_card_balance\n",
    "  GROUP BY SK_ID_CURR\n",
    "),\n",
    "balance_bins AS (\n",
    "  SELECT \n",
    "    a.SK_ID_CURR,\n",
    "    a.TARGET,\n",
    "    NTILE(10) OVER (ORDER BY c.avg_balance) AS balance_decile\n",
    "  FROM application_train a\n",
    "  LEFT JOIN credit_balance c ON a.SK_ID_CURR = c.SK_ID_CURR\n",
    ")\n",
    "SELECT \n",
    "  balance_decile,\n",
    "  COUNT(*) AS total_clients,\n",
    "  SUM(TARGET) AS total_defaults,\n",
    "  ROUND(SUM(TARGET) * 1.0 / COUNT(*), 4) AS default_rate\n",
    "FROM balance_bins\n",
    "GROUP BY balance_decile\n",
    "ORDER BY balance_decile;\n",
    "\"\"\"\n",
    "\n",
    "cursor.execute(query)\n",
    "plan = cursor.fetchall()\n",
    "for row in plan:\n",
    "    print(row[0])"
   ]
  },
  {
   "cell_type": "markdown",
   "id": "2f3b6b09",
   "metadata": {},
   "source": [
    "**Análisis** \n",
    "\n",
    "El plan de ejecución para esta consulta muestra una operación compleja que involucra un Hash Left Join entre application_train y una subconsulta agregada de credit_card_balance. Se observa que ambas tablas son leídas completamente mediante escaneos secuenciales y que se realizan múltiples operaciones de ordenamiento (Sort) y agregación (HashAggregate, GroupAggregate) sobre grandes volúmenes de datos.\n",
    "\n",
    "El cálculo de los deciles (NTILE(10) OVER (ORDER BY c.avg_balance)) requiere ordenar todos los datos por el saldo promedio, lo que genera un uso intensivo de disco y memoria, especialmente en los pasos de ordenamiento y agregación. El tiempo total de ejecución es elevado (alrededor de 1.4 segundos), lo que indica que la consulta es costosa en recursos y puede escalar mal si las tablas crecen.\n",
    "\n",
    "Para optimizar esta consulta, se podrían considerar las siguientes acciones:\n",
    "\n",
    "* Considerar la creación de índices sobre las columnas `SK_ID_CURR` en ambas tablas para acelerar los joins y sobre `avg_balance` si se realizan consultas similares frecuentemente.\n",
    "  \n",
    "* Evaluar la posibilidad de materializar la subconsulta de saldos promedio (credit_balance) si se utiliza en varias consultas, para evitar recalcularla cada vez.\n",
    "\n",
    "* Monitorear el uso de disco y memoria, ya que los ordenamientos externos y las agregaciones sobre grandes volúmenes pueden afectar el rendimiento general del sistema.\n",
    "\n",
    "* Revisar periódicamente el plan de ejecución tras crear los índices o modificar el volumen de datos, para asegurar que el motor de base de datos utiliza los caminos más eficientes."
   ]
  },
  {
   "cell_type": "markdown",
   "id": "8d969e37",
   "metadata": {},
   "source": [
    "#### 📌 `Query Pregunta 5.`"
   ]
  },
  {
   "cell_type": "code",
   "execution_count": 7,
   "id": "f3bcab7f",
   "metadata": {},
   "outputs": [
    {
     "name": "stdout",
     "output_type": "stream",
     "text": [
      "Sort  (cost=278863.50..278864.00 rows=200 width=52) (actual time=1246.512..1246.532 rows=10 loops=1)\n",
      "  Sort Key: (ntile(10) OVER (?))\n",
      "  Sort Method: quicksort  Memory: 25kB\n",
      "  ->  HashAggregate  (cost=278851.35..278855.85 rows=200 width=52) (actual time=1246.502..1246.524 rows=10 loops=1)\n",
      "        Group Key: ntile(10) OVER (?)\n",
      "        Batches: 1  Memory Usage: 40kB\n",
      "        ->  WindowAgg  (cost=268088.49..273469.91 rows=307511 width=44) (actual time=1209.411..1230.817 rows=307511 loops=1)\n",
      "              ->  Sort  (cost=268088.47..268857.25 rows=307511 width=36) (actual time=1178.436..1193.197 rows=307511 loops=1)\n",
      "                    Sort Key: c.avg_utilization\n",
      "                    Sort Method: external merge  Disk: 5264kB\n",
      "                    ->  Hash Left Join  (cost=206189.57..231647.91 rows=307511 width=36) (actual time=1093.525..1150.590 rows=307511 loops=1)\n",
      "                          Hash Cond: (a.sk_id_curr = c.sk_id_curr)\n",
      "                          ->  Seq Scan on application_train a  (cost=0.00..24651.11 rows=307511 width=8) (actual time=0.010..24.112 rows=307511 loops=1)\n",
      "                          ->  Hash  (cost=205441.27..205441.27 rows=59864 width=36) (actual time=1093.480..1093.499 rows=102445 loops=1)\n",
      "                                Buckets: 131072 (originally 65536)  Batches: 1 (originally 1)  Memory Usage: 5840kB\n",
      "                                ->  Subquery Scan on c  (cost=189227.13..205441.27 rows=59864 width=36) (actual time=992.680..1087.357 rows=102445 loops=1)\n",
      "                                      ->  Finalize GroupAggregate  (cost=189227.13..204842.63 rows=59864 width=36) (actual time=992.680..1083.027 rows=102445 loops=1)\n",
      "                                            Group Key: credit_card_balance.sk_id_curr\n",
      "                                            ->  Gather Merge  (cost=189227.13..203196.37 rows=119728 width=36) (actual time=992.673..1018.479 rows=297134 loops=1)\n",
      "                                                  Workers Planned: 2\n",
      "                                                  Workers Launched: 2\n",
      "                                                  ->  Sort  (cost=188227.11..188376.77 rows=59864 width=36) (actual time=980.764..986.012 rows=99045 loops=3)\n",
      "                                                        Sort Key: credit_card_balance.sk_id_curr\n",
      "                                                        Sort Method: external merge  Disk: 8016kB\n",
      "                                                        Worker 0:  Sort Method: external merge  Disk: 8000kB\n",
      "                                                        Worker 1:  Sort Method: external merge  Disk: 7992kB\n",
      "                                                        ->  Partial HashAggregate  (cost=170224.24..183477.08 rows=59864 width=36) (actual time=763.214..958.989 rows=99045 loops=3)\n",
      "                                                              Group Key: credit_card_balance.sk_id_curr\n",
      "                                                              Planned Partitions: 4  Batches: 21  Memory Usage: 8753kB  Disk Usage: 32096kB\n",
      "                                                              Worker 0:  Batches: 21  Memory Usage: 8753kB  Disk Usage: 31640kB\n",
      "                                                              Worker 1:  Batches: 21  Memory Usage: 8753kB  Disk Usage: 28424kB\n",
      "                                                              ->  Parallel Seq Scan on credit_card_balance  (cost=0.00..81792.12 rows=1280465 width=14) (actual time=2.178..451.189 rows=1028830 loops=3)\n",
      "                                                                    Filter: (amt_credit_limit_actual > '0'::numeric)\n",
      "                                                                    Rows Removed by Filter: 251274\n",
      "Planning Time: 0.188 ms\n",
      "Execution Time: 1251.989 ms\n"
     ]
    }
   ],
   "source": [
    "query = \"\"\"\n",
    "EXPLAIN ANALYZE\n",
    "WITH credit_usage AS (\n",
    "  SELECT \n",
    "    SK_ID_CURR,\n",
    "    AVG(AMT_BALANCE / NULLIF(AMT_CREDIT_LIMIT_ACTUAL, 0)) AS avg_utilization\n",
    "  FROM credit_card_balance\n",
    "  WHERE AMT_CREDIT_LIMIT_ACTUAL > 0\n",
    "  GROUP BY SK_ID_CURR\n",
    "),\n",
    "usage_bins AS (\n",
    "  SELECT \n",
    "    a.SK_ID_CURR,\n",
    "    a.TARGET,\n",
    "    NTILE(10) OVER (ORDER BY c.avg_utilization) AS utilization_decile\n",
    "  FROM application_train a\n",
    "  LEFT JOIN credit_usage c ON a.SK_ID_CURR = c.SK_ID_CURR\n",
    ")\n",
    "SELECT \n",
    "  utilization_decile,\n",
    "  COUNT(*) AS total_clients,\n",
    "  SUM(TARGET) AS total_defaults,\n",
    "  ROUND(SUM(TARGET) * 1.0 / COUNT(*), 4) AS default_rate\n",
    "FROM usage_bins\n",
    "GROUP BY utilization_decile\n",
    "ORDER BY utilization_decile;\n",
    "\"\"\"\n",
    "\n",
    "cursor.execute(query)\n",
    "plan = cursor.fetchall()\n",
    "for row in plan:\n",
    "    print(row[0])"
   ]
  },
  {
   "cell_type": "markdown",
   "id": "7e44a150",
   "metadata": {},
   "source": [
    "**Análisis**\n",
    "\n",
    "El plan de ejecución para esta consulta muestra una operación compleja que involucra un Hash Left Join entre application_train y una subconsulta agregada de credit_card_balance (donde se calcula la utilización promedio de la línea de crédito). Ambas tablas son leídas completamente mediante escaneos secuenciales y se realizan múltiples operaciones de ordenamiento (Sort) y agregación (HashAggregate, GroupAggregate) sobre grandes volúmenes de datos.\n",
    "\n",
    "El cálculo de los deciles (NTILE(10) OVER (ORDER BY c.avg_utilization)) requiere ordenar todos los datos por la utilización promedio, lo que genera un uso intensivo de disco y memoria, especialmente en los pasos de ordenamiento y agregación. El tiempo total de ejecución es elevado (alrededor de 1.5 segundos), lo que indica que la consulta es costosa en recursos y puede escalar mal si las tablas crecen.\n",
    "\n",
    "Para optimizar esta consulta, se podrían considerar las siguientes acciones:\n",
    "\n",
    "* Considerar la creación de índices sobre las columnas `SK_ID_CURR` en ambas tablas para acelerar los joins y sobre avg_utilization si se realizan consultas similares frecuentemente.\n",
    "\n",
    "* Evaluar la posibilidad de materializar la subconsulta de utilización promedio (credit_usage) si se utiliza en varias consultas, para evitar recalcularla cada vez.\n",
    "\n",
    "* Monitorear el uso de disco y memoria, ya que los ordenamientos externos y las agregaciones sobre grandes volúmenes pueden afectar el rendimiento general del sistema.\n",
    "\n",
    "* Revisar periódicamente el plan de ejecución tras crear los índices o modificar el volumen de datos, para asegurar que el motor de base de datos utiliza los caminos más eficientes."
   ]
  },
  {
   "cell_type": "markdown",
   "id": "ae0f731a",
   "metadata": {},
   "source": [
    "#### 📌 `Query Pregunta 6.`"
   ]
  },
  {
   "cell_type": "code",
   "execution_count": 8,
   "id": "7c61252c",
   "metadata": {},
   "outputs": [
    {
     "name": "stdout",
     "output_type": "stream",
     "text": [
      "Finalize GroupAggregate  (cost=126576.23..126630.40 rows=200 width=52) (actual time=422.874..423.527 rows=2 loops=1)\n",
      "  Group Key: (CASE WHEN (r.refused_count IS NOT NULL) THEN 1 ELSE 0 END)\n",
      "  ->  Gather Merge  (cost=126576.23..126622.90 rows=400 width=20) (actual time=422.865..423.517 rows=6 loops=1)\n",
      "        Workers Planned: 2\n",
      "        Workers Launched: 2\n",
      "        ->  Sort  (cost=125576.21..125576.71 rows=200 width=20) (actual time=417.379..417.380 rows=2 loops=3)\n",
      "              Sort Key: (CASE WHEN (r.refused_count IS NOT NULL) THEN 1 ELSE 0 END)\n",
      "              Sort Method: quicksort  Memory: 25kB\n",
      "              Worker 0:  Sort Method: quicksort  Memory: 25kB\n",
      "              Worker 1:  Sort Method: quicksort  Memory: 25kB\n",
      "              ->  Partial HashAggregate  (cost=125566.56..125568.56 rows=200 width=20) (actual time=417.364..417.366 rows=2 loops=3)\n",
      "                    Group Key: CASE WHEN (r.refused_count IS NOT NULL) THEN 1 ELSE 0 END\n",
      "                    Batches: 1  Memory Usage: 40kB\n",
      "                    Worker 0:  Batches: 1  Memory Usage: 40kB\n",
      "                    Worker 1:  Batches: 1  Memory Usage: 40kB\n",
      "                    ->  Hash Left Join  (cost=99596.95..124605.59 rows=128130 width=8) (actual time=378.126..411.242 rows=102504 loops=3)\n",
      "                          Hash Cond: (a.sk_id_curr = r.sk_id_curr)\n",
      "                          ->  Parallel Seq Scan on application_train a  (cost=0.00..22857.30 rows=128130 width=8) (actual time=0.023..11.306 rows=102504 loops=3)\n",
      "                          ->  Hash  (cost=96704.64..96704.64 rows=166345 width=12) (actual time=377.817..377.817 rows=118277 loops=3)\n",
      "                                Buckets: 262144  Batches: 2  Memory Usage: 4600kB\n",
      "                                ->  Subquery Scan on r  (cost=91069.68..96704.64 rows=166345 width=12) (actual time=349.057..367.625 rows=118277 loops=3)\n",
      "                                      ->  HashAggregate  (cost=91069.68..95041.19 rows=166345 width=12) (actual time=349.056..362.847 rows=118277 loops=3)\n",
      "                                            Group Key: previous_application.sk_id_curr\n",
      "                                            Planned Partitions: 4  Batches: 5  Memory Usage: 8241kB  Disk Usage: 1800kB\n",
      "                                            Worker 0:  Batches: 5  Memory Usage: 8241kB  Disk Usage: 1800kB\n",
      "                                            Worker 1:  Batches: 5  Memory Usage: 8241kB  Disk Usage: 1800kB\n",
      "                                            ->  Seq Scan on previous_application  (cost=0.00..74451.62 rows=295432 width=4) (actual time=0.106..283.122 rows=290678 loops=3)\n",
      "                                                  Filter: ((name_contract_status)::text = 'Refused'::text)\n",
      "                                                  Rows Removed by Filter: 1379536\n",
      "Planning Time: 0.534 ms\n",
      "Execution Time: 424.825 ms\n"
     ]
    }
   ],
   "source": [
    "query = \"\"\"\n",
    "EXPLAIN ANALYZE\n",
    "WITH refused_clients AS (\n",
    "  SELECT \n",
    "    SK_ID_CURR,\n",
    "    COUNT(*) AS refused_count\n",
    "  FROM previous_application\n",
    "  WHERE NAME_CONTRACT_STATUS = 'Refused'\n",
    "  GROUP BY SK_ID_CURR\n",
    "),\n",
    "clients_flagged AS (\n",
    "  SELECT \n",
    "    a.SK_ID_CURR,\n",
    "    a.TARGET,\n",
    "    CASE WHEN r.refused_count IS NOT NULL THEN 1 ELSE 0 END AS had_refusals\n",
    "  FROM application_train a\n",
    "  LEFT JOIN refused_clients r ON a.SK_ID_CURR = r.SK_ID_CURR\n",
    ")\n",
    "SELECT \n",
    "  had_refusals,\n",
    "  COUNT(*) AS total_clients,\n",
    "  SUM(TARGET) AS total_defaults,\n",
    "  ROUND(SUM(TARGET) * 1.0 / COUNT(*), 4) AS default_rate\n",
    "FROM clients_flagged\n",
    "GROUP BY had_refusals;\n",
    "\"\"\"\n",
    "\n",
    "cursor.execute(query)\n",
    "plan = cursor.fetchall()\n",
    "for row in plan:\n",
    "    print(row[0])"
   ]
  },
  {
   "cell_type": "markdown",
   "id": "73956495",
   "metadata": {},
   "source": [
    "**Análisis**\n",
    "\n",
    "El plan de ejecución para esta consulta muestra una operación que involucra un Hash Left Join entre application_train y una subconsulta agregada de previous_application (donde se cuentan los rechazos por cliente). Ambas tablas son leídas completamente mediante escaneos secuenciales y se utilizan agregaciones (HashAggregate, GroupAggregate) y ordenamientos (Sort) en paralelo para procesar los datos.\n",
    "\n",
    "El uso de procesamiento paralelo permite distribuir la carga entre varios trabajadores, lo que mejora el tiempo de respuesta (alrededor de 590 ms en total). Sin embargo, el acceso a los datos sigue siendo mediante escaneo secuencial, y la subconsulta sobre previous_application requiere filtrar y agrupar una gran cantidad de filas, lo que puede ser costoso si la tabla crece.\n",
    "\n",
    "Para optimizar esta consulta, se podrían considerar las siguientes acciones:\n",
    "\n",
    "* Considerar la creación de índices sobre las columnas `SK_ID_CURR` en ambas tablas para acelerar los joins y sobre `NAME_CONTRACT_STATUS` en previous_application para optimizar el filtrado por rechazos.\n",
    "\n",
    "* Monitorear el uso de recursos (memoria y disco) durante las agregaciones y joins, especialmente si el volumen de datos aumenta.\n",
    "\n",
    "* Revisar periódicamente el plan de ejecución tras crear los índices o modificar el volumen de datos, para asegurar que el motor de base de datos utiliza los caminos más eficientes.\n",
    "Si la consulta se utiliza frecuentemente, evaluar la posibilidad de materializar la subconsulta de rechazos por cliente para evitar recalcularla cada vez."
   ]
  },
  {
   "cell_type": "markdown",
   "id": "8101624f",
   "metadata": {},
   "source": [
    "#### 📌 `Query Pregunta 7.`"
   ]
  },
  {
   "cell_type": "code",
   "execution_count": 9,
   "id": "2fd1f93b",
   "metadata": {},
   "outputs": [
    {
     "name": "stdout",
     "output_type": "stream",
     "text": [
      "GroupAggregate  (cost=72520.25..72624.83 rows=2940 width=84) (actual time=224.526..248.724 rows=20 loops=1)\n",
      "  Group Key: income_deciles.group_type, income_deciles.income_decile\n",
      "  ->  Sort  (cost=72520.25..72527.93 rows=3075 width=40) (actual time=222.185..237.601 rows=187698 loops=1)\n",
      "        Sort Key: income_deciles.group_type, income_deciles.income_decile\n",
      "        Sort Method: external merge  Disk: 7088kB\n",
      "        ->  Subquery Scan on income_deciles  (cost=60041.68..72342.11 rows=3075 width=40) (actual time=136.859..193.337 rows=187698 loops=1)\n",
      "              Filter: (income_deciles.group_type = ANY ('{With_Family_and_Children,Alone_No_Children}'::text[]))\n",
      "              Rows Removed by Filter: 119813\n",
      "              ->  WindowAgg  (cost=60041.68..68498.22 rows=307511 width=50) (actual time=136.857..177.116 rows=307511 loops=1)\n",
      "                    ->  Sort  (cost=60041.67..60810.44 rows=307511 width=27) (actual time=89.092..115.464 rows=307511 loops=1)\n",
      "                          Sort Key: application_train.amt_income_total\n",
      "                          Sort Method: external merge  Disk: 12304kB\n",
      "                          ->  Seq Scan on application_train  (cost=0.00..24651.11 rows=307511 width=27) (actual time=0.013..37.328 rows=307511 loops=1)\n",
      "Planning Time: 0.379 ms\n",
      "Execution Time: 284.513 ms\n"
     ]
    }
   ],
   "source": [
    "query = \"\"\"\n",
    "EXPLAIN ANALYZE\n",
    "WITH labeled_clients AS (\n",
    "  SELECT \n",
    "    SK_ID_CURR,\n",
    "    TARGET,\n",
    "    AMT_INCOME_TOTAL,\n",
    "    CASE \n",
    "      WHEN NAME_TYPE_SUITE = 'Family' AND CNT_CHILDREN > 0 THEN 'With_Family_and_Children'\n",
    "      WHEN NAME_TYPE_SUITE = 'Unaccompanied' AND CNT_CHILDREN = 0 THEN 'Alone_No_Children'\n",
    "      ELSE 'Other'\n",
    "    END AS group_type\n",
    "  FROM application_train\n",
    "),\n",
    "income_deciles AS (\n",
    "  SELECT *,\n",
    "    NTILE(10) OVER (ORDER BY AMT_INCOME_TOTAL) AS income_decile\n",
    "  FROM labeled_clients\n",
    ")\n",
    "SELECT \n",
    "  group_type,\n",
    "  income_decile,\n",
    "  COUNT(*) AS total_clients,\n",
    "  SUM(TARGET) AS total_defaults,\n",
    "  ROUND(SUM(TARGET) * 1.0 / COUNT(*), 4) AS default_rate\n",
    "FROM income_deciles\n",
    "WHERE group_type IN ('With_Family_and_Children', 'Alone_No_Children')\n",
    "GROUP BY group_type, income_decile\n",
    "ORDER BY group_type, income_decile;\n",
    "\"\"\"\n",
    "\n",
    "cursor.execute(query)\n",
    "plan = cursor.fetchall()\n",
    "for row in plan:\n",
    "    print(row[0])"
   ]
  },
  {
   "cell_type": "markdown",
   "id": "b09a3731",
   "metadata": {},
   "source": [
    "**Análisis**\n",
    "\n",
    "El plan de ejecución para esta consulta muestra que se realiza un escaneo secuencial completo sobre la tabla application_train, seguido de un ordenamiento externo (Sort) por el campo `AMT_INCOME_TOTAL` para calcular los deciles mediante una función de ventana (WindowAgg). Posteriormente, se filtran los grupos de interés y se realiza una agregación final (GroupAggregate) por tipo de grupo e income decile.\n",
    "\n",
    "El uso de ordenamientos externos y funciones de ventana sobre grandes volúmenes de datos genera un uso intensivo de disco y memoria (por ejemplo, el sort utiliza más de 12 MB en disco). El tiempo total de ejecución es moderado (alrededor de 420 ms), pero puede aumentar si la tabla crece.\n",
    "\n",
    "Para optimizar esta consulta, se podrían considerar las siguientes acciones:\n",
    "\n",
    "* Considerar la creación de un índice sobre `AMT_INCOME_TOTAL` para acelerar el ordenamiento requerido por la función de ventana.\n",
    "\n",
    "* Monitorear el uso de disco y memoria, ya que los ordenamientos externos pueden impactar el rendimiento general si el volumen de datos aumenta.\n",
    "\n",
    "* Si la consulta se utiliza frecuentemente, evaluar la posibilidad de materializar los resultados intermedios (por ejemplo, los deciles) para evitar recalcularlos cada vez.\n",
    "\n",
    "* Revisar periódicamente el plan de ejecución tras crear índices o cambios en el volumen de datos, para asegurar que el motor de base de datos utiliza los caminos más eficientes."
   ]
  },
  {
   "cell_type": "markdown",
   "id": "9939e2ac",
   "metadata": {},
   "source": [
    "#### 📌 `Query Pregunta 8.`"
   ]
  },
  {
   "cell_type": "code",
   "execution_count": 10,
   "id": "48112d39",
   "metadata": {},
   "outputs": [
    {
     "name": "stdout",
     "output_type": "stream",
     "text": [
      "GroupAggregate  (cost=75673.75..75778.33 rows=2940 width=84) (actual time=232.906..241.099 rows=20 loops=1)\n",
      "  Group Key: income_deciles.profile_type, income_deciles.income_decile\n",
      "  ->  Sort  (cost=75673.75..75681.43 rows=3075 width=40) (actual time=232.589..236.742 rows=79549 loops=1)\n",
      "        Sort Key: income_deciles.profile_type, income_deciles.income_decile\n",
      "        Sort Method: external merge  Disk: 2656kB\n",
      "        ->  Subquery Scan on income_deciles  (cost=63195.18..75495.61 rows=3075 width=40) (actual time=158.514..218.325 rows=79549 loops=1)\n",
      "              Filter: (income_deciles.profile_type = ANY ('{Low_Edu_Rent,High_Edu_Owner}'::text[]))\n",
      "              Rows Removed by Filter: 227962\n",
      "              ->  WindowAgg  (cost=63195.18..71651.72 rows=307511 width=50) (actual time=158.504..205.473 rows=307511 loops=1)\n",
      "                    ->  Sort  (cost=63195.17..63963.94 rows=307511 width=53) (actual time=103.409..131.824 rows=307511 loops=1)\n",
      "                          Sort Key: application_train.amt_income_total\n",
      "                          Sort Method: external merge  Disk: 19904kB\n",
      "                          ->  Seq Scan on application_train  (cost=0.00..24651.11 rows=307511 width=53) (actual time=0.015..43.426 rows=307511 loops=1)\n",
      "Planning Time: 0.196 ms\n",
      "Execution Time: 242.934 ms\n"
     ]
    }
   ],
   "source": [
    "query = \"\"\"\n",
    "EXPLAIN ANALYZE\n",
    "WITH categorized_clients AS (\n",
    "  SELECT \n",
    "    SK_ID_CURR,\n",
    "    TARGET,\n",
    "    AMT_INCOME_TOTAL,\n",
    "    CASE \n",
    "      WHEN NAME_HOUSING_TYPE IN ('Rented apartment', 'Municipal apartment') \n",
    "        AND NAME_EDUCATION_TYPE IN ('Secondary / secondary special', 'Lower secondary') \n",
    "        THEN 'Low_Edu_Rent'\n",
    "      WHEN NAME_HOUSING_TYPE = 'House / apartment' \n",
    "        AND NAME_EDUCATION_TYPE = 'Higher education'\n",
    "        THEN 'High_Edu_Owner'\n",
    "      ELSE 'Other'\n",
    "    END AS profile_type\n",
    "  FROM application_train\n",
    "),\n",
    "income_deciles AS (\n",
    "  SELECT *,\n",
    "    NTILE(10) OVER (ORDER BY AMT_INCOME_TOTAL) AS income_decile\n",
    "  FROM categorized_clients\n",
    ")\n",
    "SELECT \n",
    "  profile_type,\n",
    "  income_decile,\n",
    "  COUNT(*) AS total_clients,\n",
    "  SUM(TARGET) AS total_defaults,\n",
    "  ROUND(SUM(TARGET) * 1.0 / COUNT(*), 4) AS default_rate\n",
    "FROM income_deciles\n",
    "WHERE profile_type IN ('Low_Edu_Rent', 'High_Edu_Owner')\n",
    "GROUP BY profile_type, income_decile\n",
    "ORDER BY profile_type, income_decile;\n",
    "\"\"\"\n",
    "\n",
    "cursor.execute(query)\n",
    "plan = cursor.fetchall()\n",
    "for row in plan:\n",
    "    print(row[0])"
   ]
  },
  {
   "cell_type": "markdown",
   "id": "2b510d20",
   "metadata": {},
   "source": [
    "**Análisis**\n",
    "\n",
    "El plan de ejecución para esta consulta muestra que se realiza un escaneo secuencial completo sobre la tabla application_train, seguido de un ordenamiento externo (Sort) por el campo `AMT_INCOME_TOTAL` para calcular los deciles mediante una función de ventana (WindowAgg). Luego, se filtran los perfiles de interés y se realiza una agregación final (GroupAggregate) por tipo de perfil e income decile.\n",
    "\n",
    "El uso de ordenamientos externos y funciones de ventana sobre grandes volúmenes de datos genera un uso intensivo de disco y memoria (por ejemplo, el sort utiliza cerca de 20 MB en disco). El tiempo total de ejecución es moderado (alrededor de 350 ms), pero puede aumentar si la tabla crece.\n",
    "\n",
    "Para optimizar esta consulta, se podrían considerar las siguientes acciones:\n",
    "\n",
    "* Considerar la creación de un índice sobre `AMT_INCOME_TOTAL` para acelerar el ordenamiento requerido por la función de ventana.\n",
    "\n",
    "* Monitorear el uso de disco y memoria, ya que los ordenamientos externos pueden impactar el rendimiento general si el volumen de datos aumenta.\n",
    "\n",
    "* Si la consulta se utiliza frecuentemente, evaluar la posibilidad de materializar los resultados intermedios (por ejemplo, los deciles) para evitar recalcularlos cada vez.\n",
    "\n",
    "* Revisar periódicamente el plan de ejecución tras crear índices o cambios en el volumen de datos, para asegurar que el motor de base de datos utiliza los caminos más eficientes.\n",
    "\n"
   ]
  },
  {
   "cell_type": "markdown",
   "id": "a143c9f5",
   "metadata": {},
   "source": [
    "#### `Creación de Index`"
   ]
  },
  {
   "cell_type": "code",
   "execution_count": 12,
   "id": "568c3e42",
   "metadata": {},
   "outputs": [],
   "source": [
    "index_commands = [\n",
    "    \"CREATE INDEX IF NOT EXISTS idx_application_train_sk_id_curr ON application_train(SK_ID_CURR);\",\n",
    "    \"CREATE INDEX IF NOT EXISTS idx_credit_card_balance_sk_id_curr ON credit_card_balance(SK_ID_CURR);\",\n",
    "    \"CREATE INDEX IF NOT EXISTS idx_bureau_sk_id_curr ON bureau(SK_ID_CURR);\",\n",
    "    \"CREATE INDEX IF NOT EXISTS idx_previous_application_sk_id_curr ON previous_application(SK_ID_CURR);\",\n",
    "    \"CREATE INDEX IF NOT EXISTS idx_application_train_amt_income_total ON application_train(AMT_INCOME_TOTAL);\",\n",
    "    \"CREATE INDEX IF NOT EXISTS idx_application_train_amt_credit ON application_train(AMT_CREDIT);\",\n",
    "    \"CREATE INDEX IF NOT EXISTS idx_previous_application_name_contract_status ON previous_application(NAME_CONTRACT_STATUS);\",\n",
    "    \"CREATE INDEX IF NOT EXISTS idx_application_train_name_contract_type ON application_train(NAME_CONTRACT_TYPE);\",\n",
    "    \"CREATE INDEX IF NOT EXISTS idx_application_train_name_housing_type ON application_train(NAME_HOUSING_TYPE);\",\n",
    "    \"CREATE INDEX IF NOT EXISTS idx_application_train_name_education_type ON application_train(NAME_EDUCATION_TYPE);\"\n",
    "]\n",
    "\n",
    "for cmd in index_commands:\n",
    "    cursor.execute(cmd)\n",
    "conn.commit()"
   ]
  },
  {
   "cell_type": "code",
   "execution_count": 13,
   "id": "b36218df",
   "metadata": {},
   "outputs": [],
   "source": [
    "# Cierre conexión\n",
    "cursor.close()\n",
    "conn.close()"
   ]
  }
 ],
 "metadata": {
  "kernelspec": {
   "display_name": "env_credit_databases",
   "language": "python",
   "name": "python3"
  },
  "language_info": {
   "codemirror_mode": {
    "name": "ipython",
    "version": 3
   },
   "file_extension": ".py",
   "mimetype": "text/x-python",
   "name": "python",
   "nbconvert_exporter": "python",
   "pygments_lexer": "ipython3",
   "version": "3.10.17"
  }
 },
 "nbformat": 4,
 "nbformat_minor": 5
}
