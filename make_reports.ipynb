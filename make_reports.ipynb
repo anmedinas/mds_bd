{
 "cells": [
  {
   "cell_type": "code",
   "execution_count": null,
   "metadata": {},
   "outputs": [],
   "source": [
    "from pandas_profiling import ProfileReport\n",
    "import pandas as pd \n",
    "import warnings \n",
    "warnings.filterwarnings(\"ignore\")"
   ]
  },
  {
   "cell_type": "code",
   "execution_count": 2,
   "metadata": {},
   "outputs": [],
   "source": [
    "# Lista con archivos \n",
    "csv_list = [\n",
    "    \"data_raw/application_train.csv\",\n",
    "    \"data_raw/application_test.csv\",\n",
    "    \"data_raw/bureau.csv\",\n",
    "    \"data_raw/bureau_balance.csv\",\n",
    "    \"data_raw/credit_card_balance.csv\",\n",
    "    \"data_raw/installments_payments.csv\",\n",
    "    \"data_raw/previous_application.csv\",\n",
    "    \"data_raw/pos_cash_balance.csv\",\n",
    "]"
   ]
  },
  {
   "cell_type": "code",
   "execution_count": 3,
   "metadata": {},
   "outputs": [
    {
     "name": "stderr",
     "output_type": "stream",
     "text": [
      "100%|██████████| 122/122 [00:11<00:00, 10.90it/s]2<00:01,  8.06it/s, Describe variable: AMT_REQ_CREDIT_BUREAU_YEAR] \n",
      "Summarize dataset: 100%|██████████| 5032/5032 [06:32<00:00, 12.83it/s, Completed]                                                         \n",
      "Generate report structure: 100%|██████████| 1/1 [00:13<00:00, 13.39s/it]\n",
      "Render HTML: 100%|██████████| 1/1 [00:49<00:00, 49.93s/it]\n",
      "Export report to file: 100%|██████████| 1/1 [00:00<00:00,  4.03it/s]\n",
      "100%|██████████| 121/121 [00:01<00:00, 65.11it/s]2<00:00, 52.31it/s, Describe variable: AMT_REQ_CREDIT_BUREAU_YEAR] \n",
      "Summarize dataset: 100%|██████████| 4755/4755 [03:57<00:00, 20.02it/s, Completed]                                                         \n",
      "Generate report structure: 100%|██████████| 1/1 [00:13<00:00, 13.68s/it]\n",
      "Render HTML: 100%|██████████| 1/1 [00:50<00:00, 50.17s/it]\n",
      "Export report to file: 100%|██████████| 1/1 [00:00<00:00,  4.26it/s]\n",
      "100%|██████████| 17/17 [00:03<00:00,  4.42it/s]5<00:01,  4.09it/s, Describe variable: AMT_ANNUITY]          \n",
      "Summarize dataset: 100%|██████████| 223/223 [00:49<00:00,  4.53it/s, Completed]                                             \n",
      "Generate report structure: 100%|██████████| 1/1 [00:01<00:00,  1.98s/it]\n",
      "Render HTML: 100%|██████████| 1/1 [00:02<00:00,  2.28s/it]\n",
      "Export report to file: 100%|██████████| 1/1 [00:00<00:00, 85.85it/s]\n",
      "100%|██████████| 3/3 [17:17<00:00, 346.00s/it]<19:22, 232.59s/it, Describe variable: STATUS]   \n",
      "Summarize dataset: 100%|██████████| 16/16 [18:01<00:00, 67.59s/it, Completed]                             \n",
      "Generate report structure: 100%|██████████| 1/1 [00:00<00:00,  2.28it/s]\n",
      "Render HTML: 100%|██████████| 1/1 [00:00<00:00,  4.43it/s]\n",
      "Export report to file: 100%|██████████| 1/1 [00:00<00:00, 246.90it/s]\n",
      "Python(62240) MallocStackLogging: can't turn off malloc stack logging because it was not enabled.\n",
      "100%|██████████| 23/23 [00:19<00:00,  1.21it/s]9<00:01,  2.53it/s, Describe variable: SK_DPD_DEF]                \n",
      "Summarize dataset: 100%|██████████| 517/517 [04:14<00:00,  2.03it/s, Completed]                                                     \n",
      "Generate report structure: 100%|██████████| 1/1 [00:03<00:00,  3.09s/it]\n",
      "Render HTML: 100%|██████████| 1/1 [00:05<00:00,  5.58s/it]\n",
      "Export report to file: 100%|██████████| 1/1 [00:00<00:00, 26.81it/s]\n",
      "Python(62292) MallocStackLogging: can't turn off malloc stack logging because it was not enabled.\n",
      "100%|██████████| 8/8 [00:10<00:00,  1.25s/it]10<00:02,  1.83it/s, Describe variable: AMT_PAYMENT]\n",
      "Summarize dataset: 100%|██████████| 82/82 [03:21<00:00,  2.46s/it, Completed]                                             \n",
      "Generate report structure: 100%|██████████| 1/1 [00:01<00:00,  1.38s/it]\n",
      "Render HTML: 100%|██████████| 1/1 [00:00<00:00,  1.17it/s]\n",
      "Export report to file: 100%|██████████| 1/1 [00:00<00:00, 132.57it/s]\n",
      "Python(62346) MallocStackLogging: can't turn off malloc stack logging because it was not enabled.\n",
      "100%|██████████| 37/37 [00:28<00:00,  1.28it/s]0<00:02,  2.13it/s, Describe variable: NFLAG_INSURED_ON_APPROVAL] \n",
      "Summarize dataset: 100%|██████████| 408/408 [02:41<00:00,  2.52it/s, Completed]                                                   \n",
      "Generate report structure: 100%|██████████| 1/1 [00:04<00:00,  4.08s/it]\n",
      "Render HTML: 100%|██████████| 1/1 [00:04<00:00,  4.27s/it]\n",
      "Export report to file: 100%|██████████| 1/1 [00:00<00:00, 34.21it/s]\n",
      "Python(62376) MallocStackLogging: can't turn off malloc stack logging because it was not enabled.\n",
      "100%|██████████| 8/8 [00:15<00:00,  1.99s/it]24<00:04,  1.17it/s, Describe variable: SK_DPD_DEF]   \n",
      "Summarize dataset: 100%|██████████| 67/67 [05:27<00:00,  4.89s/it, Completed]                                           \n",
      "Generate report structure: 100%|██████████| 1/1 [00:01<00:00,  1.39s/it]\n",
      "Render HTML: 100%|██████████| 1/1 [00:00<00:00,  1.49it/s]\n",
      "Export report to file: 100%|██████████| 1/1 [00:00<00:00, 152.07it/s]\n"
     ]
    }
   ],
   "source": [
    "# Generar reportes \n",
    "for file_path in csv_list:\n",
    "    df = pd.read_csv(file_path)\n",
    "    file_name = file_path.split(\"/\")[-1].replace(\".csv\", \"\")\n",
    "    profile = ProfileReport(df, title=f\"{file_name} DataFrame Report\", explorative=True)\n",
    "    profile.to_file(f\"reports/{file_name}_report.html\")"
   ]
  }
 ],
 "metadata": {
  "kernelspec": {
   "display_name": "env_bd_project",
   "language": "python",
   "name": "python3"
  },
  "language_info": {
   "codemirror_mode": {
    "name": "ipython",
    "version": 3
   },
   "file_extension": ".py",
   "mimetype": "text/x-python",
   "name": "python",
   "nbconvert_exporter": "python",
   "pygments_lexer": "ipython3",
   "version": "3.9.21"
  }
 },
 "nbformat": 4,
 "nbformat_minor": 2
}
